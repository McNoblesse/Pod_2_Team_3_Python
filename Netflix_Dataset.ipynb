{
 "cells": [
  {
   "cell_type": "code",
   "execution_count": 1,
   "id": "ba900b6b",
   "metadata": {},
   "outputs": [],
   "source": [
    "import pandas as pd\n",
    "import matplotlib.pyplot as plt\n",
    "import seaborn as sns\n",
    "netflix_data = pd.read_csv('netflix_titles.csv')"
   ]
  },
  {
   "cell_type": "code",
   "execution_count": 2,
   "id": "14445aa7",
   "metadata": {},
   "outputs": [
    {
     "data": {
      "text/html": [
       "<div>\n",
       "<style scoped>\n",
       "    .dataframe tbody tr th:only-of-type {\n",
       "        vertical-align: middle;\n",
       "    }\n",
       "\n",
       "    .dataframe tbody tr th {\n",
       "        vertical-align: top;\n",
       "    }\n",
       "\n",
       "    .dataframe thead th {\n",
       "        text-align: right;\n",
       "    }\n",
       "</style>\n",
       "<table border=\"1\" class=\"dataframe\">\n",
       "  <thead>\n",
       "    <tr style=\"text-align: right;\">\n",
       "      <th></th>\n",
       "      <th>show_id</th>\n",
       "      <th>type</th>\n",
       "      <th>title</th>\n",
       "      <th>director</th>\n",
       "      <th>cast</th>\n",
       "      <th>country</th>\n",
       "      <th>date_added</th>\n",
       "      <th>release_date</th>\n",
       "      <th>rating</th>\n",
       "      <th>duration</th>\n",
       "      <th>genre</th>\n",
       "      <th>description</th>\n",
       "    </tr>\n",
       "  </thead>\n",
       "  <tbody>\n",
       "    <tr>\n",
       "      <th>0</th>\n",
       "      <td>s1</td>\n",
       "      <td>Movie</td>\n",
       "      <td>Dick Johnson Is Dead</td>\n",
       "      <td>Kirsten Johnson</td>\n",
       "      <td>NaN</td>\n",
       "      <td>United States</td>\n",
       "      <td>25-Sep-21</td>\n",
       "      <td>2020</td>\n",
       "      <td>PG-13</td>\n",
       "      <td>90</td>\n",
       "      <td>Documentaries</td>\n",
       "      <td>As her father nears the end of his life, filmm...</td>\n",
       "    </tr>\n",
       "    <tr>\n",
       "      <th>1</th>\n",
       "      <td>s2</td>\n",
       "      <td>TV Show</td>\n",
       "      <td>Blood &amp; Water</td>\n",
       "      <td>NaN</td>\n",
       "      <td>Ama Qamata, Khosi Ngema, Gail Mabalane, Thaban...</td>\n",
       "      <td>South Africa</td>\n",
       "      <td>24-Sep-21</td>\n",
       "      <td>2021</td>\n",
       "      <td>TV-MA</td>\n",
       "      <td>100</td>\n",
       "      <td>International TV Shows, TV Dramas, TV Mysteries</td>\n",
       "      <td>After crossing paths at a party, a Cape Town t...</td>\n",
       "    </tr>\n",
       "    <tr>\n",
       "      <th>2</th>\n",
       "      <td>s3</td>\n",
       "      <td>TV Show</td>\n",
       "      <td>Ganglands</td>\n",
       "      <td>Julien Leclercq</td>\n",
       "      <td>Sami Bouajila, Tracy Gotoas, Samuel Jouy, Nabi...</td>\n",
       "      <td>NaN</td>\n",
       "      <td>24-Sep-21</td>\n",
       "      <td>2021</td>\n",
       "      <td>TV-MA</td>\n",
       "      <td>100</td>\n",
       "      <td>Crime TV Shows, International TV Shows, TV Act...</td>\n",
       "      <td>To protect his family from a powerful drug lor...</td>\n",
       "    </tr>\n",
       "    <tr>\n",
       "      <th>3</th>\n",
       "      <td>s4</td>\n",
       "      <td>TV Show</td>\n",
       "      <td>Jailbirds New Orleans</td>\n",
       "      <td>NaN</td>\n",
       "      <td>NaN</td>\n",
       "      <td>NaN</td>\n",
       "      <td>24-Sep-21</td>\n",
       "      <td>2021</td>\n",
       "      <td>TV-MA</td>\n",
       "      <td>100</td>\n",
       "      <td>Docuseries, Reality TV</td>\n",
       "      <td>Feuds, flirtations and toilet talk go down amo...</td>\n",
       "    </tr>\n",
       "    <tr>\n",
       "      <th>4</th>\n",
       "      <td>s5</td>\n",
       "      <td>TV Show</td>\n",
       "      <td>Kota Factory</td>\n",
       "      <td>NaN</td>\n",
       "      <td>Mayur More, Jitendra Kumar, Ranjan Raj, Alam K...</td>\n",
       "      <td>India</td>\n",
       "      <td>24-Sep-21</td>\n",
       "      <td>2021</td>\n",
       "      <td>TV-MA</td>\n",
       "      <td>100</td>\n",
       "      <td>International TV Shows, Romantic TV Shows, TV ...</td>\n",
       "      <td>In a city of coaching centers known to train I...</td>\n",
       "    </tr>\n",
       "  </tbody>\n",
       "</table>\n",
       "</div>"
      ],
      "text/plain": [
       "  show_id     type                  title         director  \\\n",
       "0      s1    Movie   Dick Johnson Is Dead  Kirsten Johnson   \n",
       "1      s2  TV Show          Blood & Water              NaN   \n",
       "2      s3  TV Show              Ganglands  Julien Leclercq   \n",
       "3      s4  TV Show  Jailbirds New Orleans              NaN   \n",
       "4      s5  TV Show           Kota Factory              NaN   \n",
       "\n",
       "                                                cast        country  \\\n",
       "0                                                NaN  United States   \n",
       "1  Ama Qamata, Khosi Ngema, Gail Mabalane, Thaban...   South Africa   \n",
       "2  Sami Bouajila, Tracy Gotoas, Samuel Jouy, Nabi...            NaN   \n",
       "3                                                NaN            NaN   \n",
       "4  Mayur More, Jitendra Kumar, Ranjan Raj, Alam K...          India   \n",
       "\n",
       "  date_added  release_date rating  duration  \\\n",
       "0  25-Sep-21          2020  PG-13        90   \n",
       "1  24-Sep-21          2021  TV-MA       100   \n",
       "2  24-Sep-21          2021  TV-MA       100   \n",
       "3  24-Sep-21          2021  TV-MA       100   \n",
       "4  24-Sep-21          2021  TV-MA       100   \n",
       "\n",
       "                                               genre  \\\n",
       "0                                      Documentaries   \n",
       "1    International TV Shows, TV Dramas, TV Mysteries   \n",
       "2  Crime TV Shows, International TV Shows, TV Act...   \n",
       "3                             Docuseries, Reality TV   \n",
       "4  International TV Shows, Romantic TV Shows, TV ...   \n",
       "\n",
       "                                         description  \n",
       "0  As her father nears the end of his life, filmm...  \n",
       "1  After crossing paths at a party, a Cape Town t...  \n",
       "2  To protect his family from a powerful drug lor...  \n",
       "3  Feuds, flirtations and toilet talk go down amo...  \n",
       "4  In a city of coaching centers known to train I...  "
      ]
     },
     "execution_count": 2,
     "metadata": {},
     "output_type": "execute_result"
    }
   ],
   "source": [
    "netflix_data.head()"
   ]
  },
  {
   "cell_type": "code",
   "execution_count": 3,
   "id": "e71c3576",
   "metadata": {
    "scrolled": true
   },
   "outputs": [
    {
     "name": "stdout",
     "output_type": "stream",
     "text": [
      "<class 'pandas.core.frame.DataFrame'>\n",
      "RangeIndex: 8807 entries, 0 to 8806\n",
      "Data columns (total 12 columns):\n",
      " #   Column        Non-Null Count  Dtype \n",
      "---  ------        --------------  ----- \n",
      " 0   show_id       8807 non-null   object\n",
      " 1   type          8807 non-null   object\n",
      " 2   title         8807 non-null   object\n",
      " 3   director      6173 non-null   object\n",
      " 4   cast          7982 non-null   object\n",
      " 5   country       7976 non-null   object\n",
      " 6   date_added    8797 non-null   object\n",
      " 7   release_date  8807 non-null   int64 \n",
      " 8   rating        8803 non-null   object\n",
      " 9   duration      8807 non-null   int64 \n",
      " 10  genre         8807 non-null   object\n",
      " 11  description   8807 non-null   object\n",
      "dtypes: int64(2), object(10)\n",
      "memory usage: 825.8+ KB\n"
     ]
    }
   ],
   "source": [
    "netflix_data.info()"
   ]
  },
  {
   "cell_type": "code",
   "execution_count": 4,
   "id": "7ae75a5a",
   "metadata": {},
   "outputs": [],
   "source": [
    "# Calculate Summary Statistics\n",
    "mean_duration = netflix_data['duration'].mean()\n",
    "median_duration = netflix_data['duration'].median()\n",
    "std_duration = netflix_data['duration'].std()"
   ]
  },
  {
   "cell_type": "code",
   "execution_count": 5,
   "id": "1dc93b0e",
   "metadata": {},
   "outputs": [
    {
     "name": "stdout",
     "output_type": "stream",
     "text": [
      "Mean Duration: 99.70580220279324 minutes\n",
      "Median Duration: 100.0 minutes\n",
      "Standard Deviation of Duration: 23.598881161737012 minutes\n"
     ]
    }
   ],
   "source": [
    "# Display the Summary Statistics\n",
    "print(f\"Mean Duration: {mean_duration} minutes\")\n",
    "print(f\"Median Duration: {median_duration} minutes\")\n",
    "print(f\"Standard Deviation of Duration: {std_duration} minutes\")"
   ]
  },
  {
   "cell_type": "code",
   "execution_count": 11,
   "id": "274b5aae",
   "metadata": {},
   "outputs": [
    {
     "name": "stdout",
     "output_type": "stream",
     "text": [
      "Minimum Duration: 3 minutes\n",
      "Maximum Duration: 312 minutes\n",
      "Duration Range: 309 minutes\n"
     ]
    }
   ],
   "source": [
    "# Find the minimum and maximum movie durations\n",
    "min_duration = netflix_data['duration'].min()\n",
    "max_duration = netflix_data['duration'].max()\n",
    "\n",
    "# Calculate the range\n",
    "duration_range = max_duration - min_duration\n",
    "\n",
    "# Display the range\n",
    "print(f\"Minimum Duration: {min_duration} minutes\")\n",
    "print(f\"Maximum Duration: {max_duration} minutes\")\n",
    "print(f\"Duration Range: {duration_range} minutes\")"
   ]
  },
  {
   "cell_type": "code",
   "execution_count": 6,
   "id": "be3faef9",
   "metadata": {},
   "outputs": [
    {
     "data": {
      "image/png": "[encoded data removed]",
      "text/plain": [
       "<Figure size 720x432 with 1 Axes>"
      ]
     },
     "metadata": {
      "needs_background": "light"
     },
     "output_type": "display_data"
    }
   ],
   "source": [
    "# Create a histogram of movie durations\n",
    "plt.figure(figsize=(10, 6))\n",
    "plt.hist(netflix_data['duration'], bins=20, color='skyblue', edgecolor='black')\n",
    "plt.xlabel('Duration (minutes)')\n",
    "plt.ylabel('Frequency')\n",
    "plt.title('Distribution of Netflix Movie Durations')\n",
    "plt.show()"
   ]
  },
  {
   "cell_type": "code",
   "execution_count": 8,
   "id": "9cdf2ceb",
   "metadata": {},
   "outputs": [
    {
     "data": {
      "image/png": "[encoded data removed]",
      "text/plain": [
       "<Figure size 576x432 with 1 Axes>"
      ]
     },
     "metadata": {
      "needs_background": "light"
     },
     "output_type": "display_data"
    }
   ],
   "source": [
    "# Create a box plot of movie durations\n",
    "# Using a box plot to visualize central tendency and potential outliers.\n",
    "plt.figure(figsize=(8, 6))\n",
    "sns.boxplot(x=netflix_data['duration'], color='lightcoral')\n",
    "plt.xlabel('Duration (minutes)')\n",
    "plt.title('Box Plot of Netflix Movie Durations')\n",
    "plt.show()"
   ]
  },
  {
   "cell_type": "code",
   "execution_count": 9,
   "id": "55dc4fba",
   "metadata": {},
   "outputs": [
    {
     "data": {
      "image/png": "[encoded data removed]",
      "text/plain": [
       "<Figure size 864x432 with 1 Axes>"
      ]
     },
     "metadata": {
      "needs_background": "light"
     },
     "output_type": "display_data"
    }
   ],
   "source": [
    "# Assuming you have a 'release_date' column\n",
    "year_based_analysis = netflix_data.groupby('release_date')['duration'].mean()\n",
    "# Calculate the average duration\n",
    "average_duration = netflix_data['duration'].mean()\n",
    "\n",
    "year_based_analysis.plot(kind='line', figsize=(12, 6))\n",
    "plt.xlabel('Release Year')\n",
    "plt.ylabel('Mean Duration (minutes)')\n",
    "plt.axhline(y=average_duration, color='red', linestyle='--', label=f'Average Duration ({average_duration:.2f} minutes)')\n",
    "plt.title('Netflix Movie Durations Over Release Years')\n",
    "plt.show()\n"
   ]
  },
  {
   "cell_type": "markdown",
   "id": "bfcd7483",
   "metadata": {},
   "source": [
    "# Netflix Movie Durations Analysis\n",
    "\n",
    "\n",
    "### Distribution of Movie Durations\n",
    "\n",
    "- Created a histogram to show the frequency distribution of movie durations:\n",
    "\n",
    "The charts is depicting the avegrage time duration for movies over the years.\n",
    "\n",
    "\n",
    "- Created a time series analysis to show the distribution of movie durations over the years:\n",
    "\n",
    "We noticed the trend of movied duration has changed over the year, with movies before 1960's having short movie duruation.\n",
    "The trend also spiked in the years ranging between 1960 to 2000, where movie duration seem to be extra longer in playtime.\n",
    "Then come the movie durations in the 2000s where movie follow a pattern of 100 minutes playtime, which reflects the viewing choices and preferences of the audience over the years and its impact in movie production.\n",
    "\n",
    "\n",
    "- Used a box plot to visualize central tendency and potential outliers.\n",
    "\n",
    "The chart is pin pointing the outliers which are movies with iiregular time durartion, either being too short or too long for even distribution.\n",
    "\n",
    "### Summary Statistics\n",
    "\n",
    "- Mean Duration: 99.7 minutes (100)\n",
    "- Median Duration: 100.0 minutes (100)\n",
    "- Standard Deviation: 23.6 minutes (24)\n",
    "\n",
    "## Insights\n",
    "\n",
    "- The most common duration range is between 309 minutes.\n",
    "- There are about 5 outliers in the movie durations (with duration excessivley longer than others).\n",
    "- The distribution is [Insert Distribution Type], indicating [Insert Insights].\n",
    "\n",
    "## Recommendations\n",
    "\n",
    "- Diversify Movie Durations: Given the trend of decreasing movie durations over the years, consider diversifying your movie portfolio by including both shorter and longer films. This can cater to a wider audience with varying preferences for movie length.\n",
    "\n",
    "- Audience Segmentation: Analyze your audience demographics and preferences. Some audiences may prefer shorter movies for quick entertainment, while others may enjoy longer, immersive experiences. Tailor your content to these segments.\n",
    "\n",
    "- Content Optimization: Optimize your content to fit the desired duration range. Avoid unnecessary padding or cutting that might compromise the story's quality. Ensure that the duration aligns with the story's natural flow.\n",
    "\n",
    "- Experiment with New Formats: Explore innovative formats such as short series, mini-documentaries, or interactive storytelling. These formats can engage viewers differently and cater to changing viewing habits.\n",
    "\n",
    "\n",
    "## Conclusion\n",
    "\n",
    "- Changing Trends: The analysis shows a significant shift in movie duration trends. While earlier years featured longer films, recent years have seen a preference for shorter movies. This shift may reflect changing audience attention spans and viewing habits.\n",
    "\n",
    "- Average Duration: The average movie duration in the dataset is approximately 100 minutes. This average provides a baseline for understanding the typical length of movies on Netflix.\n",
    "\n",
    "- Flexibility Is Key: Netflix's success has been attributed to its flexibility in content delivery. By offering a wide range of durations, Netflix can continue to adapt to evolving viewer preferences.\n",
    "\n",
    "- Data-Driven Decisions: Netflix's ability to analyze viewer data and adjust content accordingly has been a key driver of its success. Continue leveraging data analytics to inform content creation and acquisition decisions.\n",
    "\n",
    "\n",
    "## Summary of the key findings of the analysis.\n",
    "\n",
    "In conclusion, Netflix should embrace the evolving landscape of movie durations and tailor its content strategy to meet the diverse preferences of its global audience. By staying data-driven and flexible, Netflix can continue to provide captivating and enjoyable content for its subscribers."
   ]
  },
  {
   "cell_type": "code",
   "execution_count": null,
   "id": "204d4273",
   "metadata": {},
   "outputs": [],
   "source": []
  }
 ],
 "metadata": {
  "kernelspec": {
   "display_name": "Python 3",
   "language": "python",
   "name": "python3"
  },
  "language_info": {
   "codemirror_mode": {
    "name": "ipython",
    "version": 3
   },
   "file_extension": ".py",
   "mimetype": "text/x-python",
   "name": "python",
   "nbconvert_exporter": "python",
   "pygments_lexer": "ipython3",
   "version": "3.8.8"
  }
 },
 "nbformat": 4,
 "nbformat_minor": 5
}
